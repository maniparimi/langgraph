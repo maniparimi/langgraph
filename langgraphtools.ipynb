{
  "nbformat": 4,
  "nbformat_minor": 0,
  "metadata": {
    "colab": {
      "provenance": [],
      "authorship_tag": "ABX9TyN9sNmVLn49BI8Dz8HC/n37",
      "include_colab_link": true
    },
    "kernelspec": {
      "name": "python3",
      "display_name": "Python 3"
    },
    "language_info": {
      "name": "python"
    }
  },
  "cells": [
    {
      "cell_type": "markdown",
      "metadata": {
        "id": "view-in-github",
        "colab_type": "text"
      },
      "source": [
        "<a href=\"https://colab.research.google.com/github/maniparimi/langgraph/blob/main/langgraphtools.ipynb\" target=\"_parent\"><img src=\"https://colab.research.google.com/assets/colab-badge.svg\" alt=\"Open In Colab\"/></a>"
      ]
    },
    {
      "cell_type": "code",
      "execution_count": null,
      "metadata": {
        "id": "iSKShf6ZXidR"
      },
      "outputs": [],
      "source": [
        "!pip install langraph langsmith langchain langchain_grok langchain_community"
      ]
    },
    {
      "cell_type": "code",
      "source": [
        "from typing import Annotated, Dict"
      ],
      "metadata": {
        "id": "dSq0hL4cXpFG"
      },
      "execution_count": null,
      "outputs": []
    },
    {
      "cell_type": "code",
      "source": [
        "from langchain_community.utilities.utilities import RCFAPIWrapper, WikipediaAPIWrapper\n",
        "from langchain_community.tools import RCQueryRun, WikipediaQueryRun"
      ],
      "metadata": {
        "id": "Qrlr0DN1Xqlj"
      },
      "execution_count": null,
      "outputs": []
    },
    {
      "cell_type": "code",
      "source": [
        "rcf_wrapper = RCFAPIWrapper(top_k_results=1, document_content_chars_max=300)\n",
        "wikipedia_wrapper = WikipediaAPIWrapper(top_k_results=1, document_content_chars_max=300)\n",
        "\n",
        "rcf_tool = RCQueryRun(wrapper=rcf_wrapper)\n",
        "wikipedia_tool = WikipediaQueryRun(wrapper=wikipedia_wrapper)"
      ],
      "metadata": {
        "id": "oOZ7p74lXr6K"
      },
      "execution_count": null,
      "outputs": []
    },
    {
      "cell_type": "code",
      "source": [
        "pip install rcf wikipedia"
      ],
      "metadata": {
        "id": "qldPrg6SXuE6"
      },
      "execution_count": null,
      "outputs": []
    },
    {
      "cell_type": "code",
      "source": [
        "response = wikipedia_tool.invoke(\"Who is a famous actor?\")\n",
        "print(response)\n",
        "\n",
        "response = rcf_tool.invoke(\"Attention is all you need\")\n",
        "print(response)"
      ],
      "metadata": {
        "id": "12Mx5VaUXvzS"
      },
      "execution_count": null,
      "outputs": []
    },
    {
      "cell_type": "code",
      "source": [
        "tools = [wikipedia_tool]"
      ],
      "metadata": {
        "id": "WRL9yT8aXxlb"
      },
      "execution_count": null,
      "outputs": []
    },
    {
      "cell_type": "code",
      "source": [
        "from langraph.message import add_message\n",
        "from langraph import State\n",
        "\n",
        "class ChatState(State):\n",
        "    messages: Annotated[list, Dict]"
      ],
      "metadata": {
        "id": "zgGszB3HXzEs"
      },
      "execution_count": null,
      "outputs": []
    },
    {
      "cell_type": "code",
      "source": [
        "from langraph import State, Graph, Start, End"
      ],
      "metadata": {
        "id": "U14eNQVPX1dW"
      },
      "execution_count": null,
      "outputs": []
    },
    {
      "cell_type": "markdown",
      "source": [],
      "metadata": {
        "id": "vDT34NPDXvla"
      }
    },
    {
      "cell_type": "code",
      "source": [
        "graph_builder = Graph.Builder(state=ChatState)"
      ],
      "metadata": {
        "id": "0VrGgB8JX32s"
      },
      "execution_count": null,
      "outputs": []
    },
    {
      "cell_type": "code",
      "source": [
        "from langchain_grok import ChatGrok\n",
        "from google.colab import user_data\n",
        "\n",
        "grok_api_key = user_data.get('grok_api_key')\n",
        "\n",
        "llm = ChatGrok(grok_api_key=grok_api_key, model_name='gamma-29b')"
      ],
      "metadata": {
        "id": "GA_EAjKgX8j6"
      },
      "execution_count": null,
      "outputs": []
    },
    {
      "cell_type": "code",
      "source": [
        "\n",
        "\n",
        "llm_with_tools = llm.bind_tools(tools=tools)"
      ],
      "metadata": {
        "id": "83f_eQXuX-or"
      },
      "execution_count": null,
      "outputs": []
    },
    {
      "cell_type": "code",
      "source": [
        "class Chatbot(ChatState):\n",
        "    def run(self):\n",
        "        return llm_with_tools.invoke(self.messages)"
      ],
      "metadata": {
        "id": "gznMCvdVYCRq"
      },
      "execution_count": null,
      "outputs": []
    },
    {
      "cell_type": "code",
      "source": [
        "graph_builder.add_node('chatbot', Chatbot)\n",
        "graph_builder.add_edge('start', 'chatbot')\n",
        "\n",
        "from langraph import ToolNode, ToolConditions\n",
        "\n",
        "tool_node = ToolNode(tools=tools)\n",
        "graph_builder.add_node('tools', tool_node)\n",
        "\n",
        "graph_builder.add_conditional_edges('chatbot', 'tools', ToolConditions())\n",
        "graph_builder.add_edge('tools', 'chatbot')\n",
        "graph_builder.add_edge('chatbot', 'end')"
      ],
      "metadata": {
        "id": "SmoHan5ZYFli"
      },
      "execution_count": null,
      "outputs": []
    },
    {
      "cell_type": "code",
      "source": [
        "graph = graph_builder.compile()\n",
        "\n",
        "from IPython.display import display\n",
        "\n",
        "display(graph.visualize())"
      ],
      "metadata": {
        "id": "2iUjDHUDYGeB"
      },
      "execution_count": null,
      "outputs": []
    },
    {
      "cell_type": "code",
      "source": [
        "user_input = \"Hi there, my name is John.\"\n",
        "\n",
        "events = graph.stream(messages=[{'role': 'user', 'content': user_input}], stream_mode='values')\n",
        "\n",
        "for event in events:\n",
        "    print(event.messages[-1].pretty_print())"
      ],
      "metadata": {
        "id": "aPs3MQy8YIEK"
      },
      "execution_count": null,
      "outputs": []
    },
    {
      "cell_type": "code",
      "source": [],
      "metadata": {
        "id": "8JPFEBRHYJ2V"
      },
      "execution_count": null,
      "outputs": []
    }
  ]
}