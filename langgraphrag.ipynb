{
  "nbformat": 4,
  "nbformat_minor": 0,
  "metadata": {
    "colab": {
      "provenance": [],
      "authorship_tag": "ABX9TyMVKkmIWS1wL5pX8KRSmdip",
      "include_colab_link": true
    },
    "kernelspec": {
      "name": "python3",
      "display_name": "Python 3"
    },
    "language_info": {
      "name": "python"
    }
  },
  "cells": [
    {
      "cell_type": "markdown",
      "metadata": {
        "id": "view-in-github",
        "colab_type": "text"
      },
      "source": [
        "<a href=\"https://colab.research.google.com/github/maniparimi/langgraph/blob/main/langgraphrag.ipynb\" target=\"_parent\"><img src=\"https://colab.research.google.com/assets/colab-badge.svg\" alt=\"Open In Colab\"/></a>"
      ]
    },
    {
      "cell_type": "code",
      "execution_count": null,
      "metadata": {
        "id": "sO_2yZx1aUDI"
      },
      "outputs": [],
      "source": [
        "pip install langchain\n",
        "pip install langgraph\n",
        "pip install cassandra-driver"
      ]
    },
    {
      "cell_type": "code",
      "source": [
        "import cassio\n",
        "cassio.init(token=ASTRA_DB_APPLICATION_TOKEN, database_id=ASTRA_DB_ID)"
      ],
      "metadata": {
        "id": "bf7l_1RRaaFj"
      },
      "execution_count": null,
      "outputs": []
    },
    {
      "cell_type": "code",
      "source": [
        "pip install langchain_community\n",
        "pip install tiktoken\n",
        "pip install langchain_groq\n",
        "pip install langchain_hub\n",
        "pip install langgraph\n",
        "pip install langchain_huggingface"
      ],
      "metadata": {
        "id": "QwxEgsYJabXE"
      },
      "execution_count": null,
      "outputs": []
    },
    {
      "cell_type": "code",
      "source": [
        "from langchain_community.document_loaders import WebBaseLoader\n",
        "urls = [\n",
        "    'https://example.com/agent',\n",
        "    'https://example.com/prompt-engineering',\n",
        "    'https://example.com/adversarial-attack-llm'\n",
        "]\n",
        "docs = [WebBaseLoader(url).load() for url in urls]"
      ],
      "metadata": {
        "id": "llxdgUB0acj6"
      },
      "execution_count": null,
      "outputs": []
    },
    {
      "cell_type": "code",
      "source": [
        "from langchain.text_splitter import TokenTextSplitter\n",
        "text_splitter = TokenTextSplitter(chunk_size=500, chunk_overlap=0)\n",
        "doc_splits = text_splitter.split_documents(docs)"
      ],
      "metadata": {
        "id": "kPUpwUvAaeVC"
      },
      "execution_count": null,
      "outputs": []
    },
    {
      "cell_type": "code",
      "source": [
        "from langchain_huggingface import HuggingFaceEmbeddings\n",
        "embeddings = HuggingFaceEmbeddings(model_name='all-MiniLM-L6-v2', api_token=HF_TOKEN)"
      ],
      "metadata": {
        "id": "0oZVS8ldagnZ"
      },
      "execution_count": null,
      "outputs": []
    },
    {
      "cell_type": "code",
      "source": [
        "from langchain.vectorstores.cassandra import Cassandra\n",
        "astra_vector_store = Cassandra(embedding=embeddings, table_name='qa_mini_demo', session=None)"
      ],
      "metadata": {
        "id": "qoa19x3saif4"
      },
      "execution_count": null,
      "outputs": []
    },
    {
      "cell_type": "code",
      "source": [
        "astra_vector_store.add_documents(doc_splits)\n",
        "print(f'Inserted {len(doc_splits)} records')"
      ],
      "metadata": {
        "id": "U012MpMGajsR"
      },
      "execution_count": null,
      "outputs": []
    },
    {
      "cell_type": "code",
      "source": [
        "retriever = astra_vector_store.as_retriever()\n",
        "result = retriever.invoke('What is an agent?')\n",
        "print(result)"
      ],
      "metadata": {
        "id": "N4dqO6tvalay"
      },
      "execution_count": null,
      "outputs": []
    },
    {
      "cell_type": "code",
      "source": [
        "pip install wikipedia\n",
        "pip install langchain_community"
      ],
      "metadata": {
        "id": "eyWzEo41anBy"
      },
      "execution_count": null,
      "outputs": []
    },
    {
      "cell_type": "code",
      "source": [
        "from langchain_community.utilities import WikipediaAPIWrapper\n",
        "from langchain_community.tools import WikipediaQueryRun\n",
        "wiki = WikipediaAPIWrapper(top_k_results=1, max_doc_content_chars=200)"
      ],
      "metadata": {
        "id": "vy9tEiypaoup"
      },
      "execution_count": null,
      "outputs": []
    },
    {
      "cell_type": "code",
      "source": [
        "wiki.run('Tell me about Shahrukh Khan')"
      ],
      "metadata": {
        "id": "s_HoJThUaqC4"
      },
      "execution_count": null,
      "outputs": []
    },
    {
      "cell_type": "code",
      "source": [
        "from typing import Literal\n",
        "from pydantic import BaseModel, Field\n",
        "class RootQuery(BaseModel):\n",
        "    data_source: Literal['vector_store', 'wiki_search']"
      ],
      "metadata": {
        "id": "jE0JPZS9arXg"
      },
      "execution_count": null,
      "outputs": []
    },
    {
      "cell_type": "code",
      "source": [
        "from langchain_groq import ChatGroq\n",
        "llm = ChatGroq(api_key=GROQ_API_KEY, model_name='llama-3-70b-versatile')"
      ],
      "metadata": {
        "id": "CPWaW3D7atNE"
      },
      "execution_count": null,
      "outputs": []
    },
    {
      "cell_type": "code",
      "source": [
        "from langchain.prompts import ChatPromptTemplate\n",
        "prompt = ChatPromptTemplate.from_messages([\n",
        "    ('system', 'You are an expert at routing a user question to vector store or Wikipedia. The vector store contains documents related to agents, prompt engineering, and adversarial attacks. Use the vector store for questions on these topics. Otherwise, use wiki search.'),\n",
        "    ('human', '{question}')\n",
        "])"
      ],
      "metadata": {
        "id": "hgmlyCRUau7o"
      },
      "execution_count": null,
      "outputs": []
    },
    {
      "cell_type": "code",
      "source": [
        "from typing import Dict, List\n",
        "class GraphState(Dict):\n",
        "    question: str\n",
        "    generation: str\n",
        "    documents: List[str]"
      ],
      "metadata": {
        "id": "6F9CYXX1awdw"
      },
      "execution_count": null,
      "outputs": []
    },
    {
      "cell_type": "code",
      "source": [
        "def retrieve(state):\n",
        "    question = state['question']\n",
        "    documents = retriever.invoke(question)\n",
        "    return {'documents': documents, 'question': question}"
      ],
      "metadata": {
        "id": "NhC7vwSoayIL"
      },
      "execution_count": null,
      "outputs": []
    },
    {
      "cell_type": "code",
      "source": [
        "def wiki_search(state):\n",
        "    question = state['question']\n",
        "    wiki_result = wiki.run(question)\n",
        "    return {'documents': [wiki_result], 'question': question}"
      ],
      "metadata": {
        "id": "NHa3Wp_fazzI"
      },
      "execution_count": null,
      "outputs": []
    },
    {
      "cell_type": "code",
      "source": [
        "def router(state):\n",
        "    source = question_router.invoke(state['question'])\n",
        "    if source.data_source == 'wiki_search':\n",
        "        return 'wiki_search'\n",
        "    else:\n",
        "        return 'vector_store'"
      ],
      "metadata": {
        "id": "1hMS7MqAa1WK"
      },
      "execution_count": null,
      "outputs": []
    },
    {
      "cell_type": "code",
      "source": [
        "from langgraph.graph import StateGraph\n",
        "workflow = StateGraph(GraphState)\n",
        "workflow.add_node('wiki_search', wiki_search)\n",
        "workflow.add_node('retrieve', retrieve)\n",
        "workflow.add_conditional_edges('start', router, {'wiki_search': 'wiki_search', 'vector_store': 'retrieve'})\n",
        "workflow.add_edge('retrieve', 'end')\n",
        "workflow.add_edge('wiki_search', 'end')\n",
        "app = workflow.compile()"
      ],
      "metadata": {
        "id": "yC446EcPa3Ah"
      },
      "execution_count": null,
      "outputs": []
    },
    {
      "cell_type": "code",
      "source": [
        "from IPython.display import display\n",
        "app.get_graph().draw_mermaid_png()"
      ],
      "metadata": {
        "id": "Q28t3Y93a4hZ"
      },
      "execution_count": null,
      "outputs": []
    },
    {
      "cell_type": "code",
      "source": [
        "for output in app.stream({'question': 'What is an agent?'}):\n",
        "    for key, value in output.items():\n",
        "        print(key, value[0]['metadata']['description'])"
      ],
      "metadata": {
        "id": "aCHXmIr3a6N5"
      },
      "execution_count": null,
      "outputs": []
    }
  ]
}